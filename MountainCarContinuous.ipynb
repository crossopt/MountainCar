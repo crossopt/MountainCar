{
 "cells": [
  {
   "cell_type": "code",
   "execution_count": 1,
   "metadata": {
    "collapsed": true
   },
   "outputs": [],
   "source": [
    "import gym\n",
    "import numpy as np"
   ]
  },
  {
   "cell_type": "code",
   "execution_count": 2,
   "metadata": {
    "collapsed": true
   },
   "outputs": [],
   "source": [
    "env = gym.make('MountainCarContinuous-v0')"
   ]
  },
  {
   "cell_type": "code",
   "execution_count": 3,
   "metadata": {
    "collapsed": false
   },
   "outputs": [],
   "source": [
    "class GreedyAgent:\n",
    "    def Move(self, state):\n",
    "        pos, vel = state\n",
    "        # Close to win, slow down\n",
    "        if pos > 0.25 and vel > 0.03:\n",
    "            return 0\n",
    "        else:\n",
    "            return -0.75 if vel <= 0 else 0.75\n"
   ]
  },
  {
   "cell_type": "code",
   "execution_count": 4,
   "metadata": {
    "collapsed": false
   },
   "outputs": [],
   "source": [
    "def GetAverageResult(tries):\n",
    "    amount = 0\n",
    "    for i in range(tries):\n",
    "        state = env.reset()\n",
    "        agent = GreedyAgent()\n",
    "        score = 0\n",
    "        action = 0\n",
    "        done = False\n",
    "        while not done:\n",
    "            action = agent.Move(state)\n",
    "            state, reward, done, info = env.step([action])\n",
    "            score += reward\n",
    "        amount += score\n",
    "    return amount / tries"
   ]
  },
  {
   "cell_type": "markdown",
   "metadata": {},
   "source": [
    "Final result for GreedyAgent:"
   ]
  },
  {
   "cell_type": "code",
   "execution_count": 5,
   "metadata": {
    "collapsed": false
   },
   "outputs": [
    {
     "name": "stdout",
     "output_type": "stream",
     "text": [
      "Average result over 1000 tries for GreedyAgent is 94.45465\n"
     ]
    }
   ],
   "source": [
    "print \"Average result over 1000 tries for GreedyAgent is {}\".format(GetAverageResult(1000))"
   ]
  },
  {
   "cell_type": "code",
   "execution_count": null,
   "metadata": {
    "collapsed": true
   },
   "outputs": [],
   "source": []
  }
 ],
 "metadata": {
  "kernelspec": {
   "display_name": "Python 2",
   "language": "python",
   "name": "python2"
  },
  "language_info": {
   "codemirror_mode": {
    "name": "ipython",
    "version": 2
   },
   "file_extension": ".py",
   "mimetype": "text/x-python",
   "name": "python",
   "nbconvert_exporter": "python",
   "pygments_lexer": "ipython2",
   "version": "2.7.13"
  }
 },
 "nbformat": 4,
 "nbformat_minor": 2
}
